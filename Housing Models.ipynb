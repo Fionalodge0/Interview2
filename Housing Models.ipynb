{
 "cells": [
  {
   "cell_type": "code",
   "execution_count": 1,
   "metadata": {},
   "outputs": [],
   "source": [
    "import pandas as pd\n",
    "import numpy as np\n",
    "import matplotlib.pyplot as plt\n",
    "from sklearn.model_selection import train_test_split, cross_val_score\n",
    "from sklearn.linear_model import Ridge, RidgeCV, Lasso, LassoCV\n",
    "from sklearn.metrics import mean_squared_error\n",
    "from sklearn.ensemble import RandomForestRegressor\n",
    "import seaborn as sns\n",
    "from sklearn.preprocessing import scale "
   ]
  },
  {
   "cell_type": "code",
   "execution_count": 2,
   "metadata": {},
   "outputs": [],
   "source": [
    "mat = pd.read_csv('mod_mat.csv')"
   ]
  },
  {
   "cell_type": "code",
   "execution_count": 3,
   "metadata": {},
   "outputs": [
    {
     "data": {
      "text/html": [
       "<div>\n",
       "<style scoped>\n",
       "    .dataframe tbody tr th:only-of-type {\n",
       "        vertical-align: middle;\n",
       "    }\n",
       "\n",
       "    .dataframe tbody tr th {\n",
       "        vertical-align: top;\n",
       "    }\n",
       "\n",
       "    .dataframe thead th {\n",
       "        text-align: right;\n",
       "    }\n",
       "</style>\n",
       "<table border=\"1\" class=\"dataframe\">\n",
       "  <thead>\n",
       "    <tr style=\"text-align: right;\">\n",
       "      <th></th>\n",
       "      <th>Unnamed: 0</th>\n",
       "      <th>Id</th>\n",
       "      <th>MSSubClass</th>\n",
       "      <th>MSZoningC (all)</th>\n",
       "      <th>MSZoningFV</th>\n",
       "      <th>MSZoningRH</th>\n",
       "      <th>MSZoningRL</th>\n",
       "      <th>MSZoningRM</th>\n",
       "      <th>LotArea</th>\n",
       "      <th>LotShapeIR2</th>\n",
       "      <th>...</th>\n",
       "      <th>YrSold</th>\n",
       "      <th>SaleConditionAdjLand</th>\n",
       "      <th>SaleConditionAlloca</th>\n",
       "      <th>SaleConditionFamily</th>\n",
       "      <th>SaleConditionNormal</th>\n",
       "      <th>SaleConditionPartial</th>\n",
       "      <th>SalePrice</th>\n",
       "      <th>WoodDeck</th>\n",
       "      <th>PorchOpenNone</th>\n",
       "      <th>PorchOpenopen</th>\n",
       "    </tr>\n",
       "  </thead>\n",
       "  <tbody>\n",
       "    <tr>\n",
       "      <th>0</th>\n",
       "      <td>1</td>\n",
       "      <td>1032</td>\n",
       "      <td>0.427955</td>\n",
       "      <td>0</td>\n",
       "      <td>0</td>\n",
       "      <td>0</td>\n",
       "      <td>1</td>\n",
       "      <td>0</td>\n",
       "      <td>1.084026</td>\n",
       "      <td>0</td>\n",
       "      <td>...</td>\n",
       "      <td>0.891688</td>\n",
       "      <td>0</td>\n",
       "      <td>0</td>\n",
       "      <td>0</td>\n",
       "      <td>1</td>\n",
       "      <td>0</td>\n",
       "      <td>0.417842</td>\n",
       "      <td>1.043050</td>\n",
       "      <td>0</td>\n",
       "      <td>1</td>\n",
       "    </tr>\n",
       "    <tr>\n",
       "      <th>1</th>\n",
       "      <td>2</td>\n",
       "      <td>346</td>\n",
       "      <td>-0.163054</td>\n",
       "      <td>0</td>\n",
       "      <td>0</td>\n",
       "      <td>0</td>\n",
       "      <td>1</td>\n",
       "      <td>0</td>\n",
       "      <td>-0.659691</td>\n",
       "      <td>0</td>\n",
       "      <td>...</td>\n",
       "      <td>-1.367186</td>\n",
       "      <td>0</td>\n",
       "      <td>0</td>\n",
       "      <td>0</td>\n",
       "      <td>1</td>\n",
       "      <td>0</td>\n",
       "      <td>-0.433660</td>\n",
       "      <td>-0.958071</td>\n",
       "      <td>1</td>\n",
       "      <td>0</td>\n",
       "    </tr>\n",
       "    <tr>\n",
       "      <th>2</th>\n",
       "      <td>3</td>\n",
       "      <td>1398</td>\n",
       "      <td>0.309753</td>\n",
       "      <td>0</td>\n",
       "      <td>0</td>\n",
       "      <td>0</td>\n",
       "      <td>0</td>\n",
       "      <td>1</td>\n",
       "      <td>-0.756685</td>\n",
       "      <td>0</td>\n",
       "      <td>...</td>\n",
       "      <td>-0.614228</td>\n",
       "      <td>0</td>\n",
       "      <td>0</td>\n",
       "      <td>0</td>\n",
       "      <td>1</td>\n",
       "      <td>0</td>\n",
       "      <td>-0.482341</td>\n",
       "      <td>1.043050</td>\n",
       "      <td>0</td>\n",
       "      <td>0</td>\n",
       "    </tr>\n",
       "    <tr>\n",
       "      <th>3</th>\n",
       "      <td>4</td>\n",
       "      <td>1058</td>\n",
       "      <td>0.073350</td>\n",
       "      <td>0</td>\n",
       "      <td>0</td>\n",
       "      <td>0</td>\n",
       "      <td>1</td>\n",
       "      <td>0</td>\n",
       "      <td>2.312957</td>\n",
       "      <td>1</td>\n",
       "      <td>...</td>\n",
       "      <td>0.891688</td>\n",
       "      <td>0</td>\n",
       "      <td>0</td>\n",
       "      <td>0</td>\n",
       "      <td>1</td>\n",
       "      <td>0</td>\n",
       "      <td>0.994195</td>\n",
       "      <td>1.043050</td>\n",
       "      <td>0</td>\n",
       "      <td>1</td>\n",
       "    </tr>\n",
       "    <tr>\n",
       "      <th>4</th>\n",
       "      <td>5</td>\n",
       "      <td>386</td>\n",
       "      <td>1.491770</td>\n",
       "      <td>0</td>\n",
       "      <td>0</td>\n",
       "      <td>0</td>\n",
       "      <td>1</td>\n",
       "      <td>0</td>\n",
       "      <td>-2.020583</td>\n",
       "      <td>0</td>\n",
       "      <td>...</td>\n",
       "      <td>1.644646</td>\n",
       "      <td>0</td>\n",
       "      <td>0</td>\n",
       "      <td>0</td>\n",
       "      <td>1</td>\n",
       "      <td>0</td>\n",
       "      <td>0.353483</td>\n",
       "      <td>1.043050</td>\n",
       "      <td>0</td>\n",
       "      <td>1</td>\n",
       "    </tr>\n",
       "  </tbody>\n",
       "</table>\n",
       "<p>5 rows × 160 columns</p>\n",
       "</div>"
      ],
      "text/plain": [
       "   Unnamed: 0    Id  MSSubClass  MSZoningC (all)  MSZoningFV  MSZoningRH  \\\n",
       "0           1  1032    0.427955                0           0           0   \n",
       "1           2   346   -0.163054                0           0           0   \n",
       "2           3  1398    0.309753                0           0           0   \n",
       "3           4  1058    0.073350                0           0           0   \n",
       "4           5   386    1.491770                0           0           0   \n",
       "\n",
       "   MSZoningRL  MSZoningRM   LotArea  LotShapeIR2      ...          YrSold  \\\n",
       "0           1           0  1.084026            0      ...        0.891688   \n",
       "1           1           0 -0.659691            0      ...       -1.367186   \n",
       "2           0           1 -0.756685            0      ...       -0.614228   \n",
       "3           1           0  2.312957            1      ...        0.891688   \n",
       "4           1           0 -2.020583            0      ...        1.644646   \n",
       "\n",
       "   SaleConditionAdjLand  SaleConditionAlloca  SaleConditionFamily  \\\n",
       "0                     0                    0                    0   \n",
       "1                     0                    0                    0   \n",
       "2                     0                    0                    0   \n",
       "3                     0                    0                    0   \n",
       "4                     0                    0                    0   \n",
       "\n",
       "   SaleConditionNormal  SaleConditionPartial  SalePrice  WoodDeck  \\\n",
       "0                    1                     0   0.417842  1.043050   \n",
       "1                    1                     0  -0.433660 -0.958071   \n",
       "2                    1                     0  -0.482341  1.043050   \n",
       "3                    1                     0   0.994195  1.043050   \n",
       "4                    1                     0   0.353483  1.043050   \n",
       "\n",
       "   PorchOpenNone  PorchOpenopen  \n",
       "0              0              1  \n",
       "1              1              0  \n",
       "2              0              0  \n",
       "3              0              1  \n",
       "4              0              1  \n",
       "\n",
       "[5 rows x 160 columns]"
      ]
     },
     "execution_count": 3,
     "metadata": {},
     "output_type": "execute_result"
    }
   ],
   "source": [
    "mat.head()"
   ]
  },
  {
   "cell_type": "code",
   "execution_count": 4,
   "metadata": {},
   "outputs": [
    {
     "data": {
      "text/plain": [
       "(1460, 160)"
      ]
     },
     "execution_count": 4,
     "metadata": {},
     "output_type": "execute_result"
    }
   ],
   "source": [
    "np.shape(mat)"
   ]
  },
  {
   "cell_type": "code",
   "execution_count": 5,
   "metadata": {},
   "outputs": [],
   "source": [
    "X_wId = mat.drop(['Unnamed: 0','SalePrice'], axis = 1)\n",
    "X = mat.drop(['Unnamed: 0','SalePrice', 'Id'], axis = 1)\n",
    "y = np.ravel(mat['SalePrice'])"
   ]
  },
  {
   "cell_type": "code",
   "execution_count": 6,
   "metadata": {},
   "outputs": [],
   "source": [
    "# Test data\n",
    "# Split data into training and test sets\n",
    "X_train, X_test , y_train, y_test = train_test_split(X, y, test_size=0.2, random_state=1)"
   ]
  },
  {
   "cell_type": "code",
   "execution_count": 7,
   "metadata": {},
   "outputs": [
    {
     "name": "stdout",
     "output_type": "stream",
     "text": [
      "0.0952336516634984\n"
     ]
    },
    {
     "data": {
      "text/plain": [
       "[<matplotlib.lines.Line2D at 0x19495dbd780>]"
      ]
     },
     "execution_count": 7,
     "metadata": {},
     "output_type": "execute_result"
    },
    {
     "data": {
      "image/png": "[encoded data removed]",
      "text/plain": [
       "<Figure size 432x288 with 1 Axes>"
      ]
     },
     "metadata": {
      "needs_background": "light"
     },
     "output_type": "display_data"
    }
   ],
   "source": [
    "# Lasso\n",
    "lasso = Lasso(max_iter = 10000, normalize = False)\n",
    "lassocv = LassoCV(alphas = None, cv = 20, max_iter = 1000000, \n",
    "                 normalize = False)\n",
    "lassocv.fit(X_train, y_train)\n",
    "lasso.set_params(alpha = lassocv.alpha_)\n",
    "lasso.fit(X_train, y_train)\n",
    "print(mean_squared_error(y_test, lasso.predict(X_test)))\n",
    "\n",
    "fig, ax = plt.subplots()\n",
    "ax.plot(lasso.predict(X_test), y_test, 'ro', markersize = 0.6)\n",
    "ax.set(xlabel = 'scaled-predictions', ylabel = 'scaled-actual')\n",
    "ax.plot(y_test, y_test)"
   ]
  },
  {
   "cell_type": "code",
   "execution_count": 8,
   "metadata": {},
   "outputs": [
    {
     "data": {
      "text/plain": [
       "98"
      ]
     },
     "execution_count": 8,
     "metadata": {},
     "output_type": "execute_result"
    }
   ],
   "source": [
    "# 108 coefficients went to 0\n",
    "lassocoef = pd.Series(abs(lasso.coef_), index=X.columns)\n",
    "np.shape(lassocoef[lassocoef.sort_values()> 0])[0]"
   ]
  },
  {
   "cell_type": "code",
   "execution_count": 9,
   "metadata": {},
   "outputs": [],
   "source": [
    "rf = RandomForestRegressor(n_estimators = 1000, max_features = 25, random_state = 42)"
   ]
  },
  {
   "cell_type": "code",
   "execution_count": 11,
   "metadata": {},
   "outputs": [],
   "source": [
    "rf = rf.fit(X_train, y_train)"
   ]
  },
  {
   "cell_type": "code",
   "execution_count": 12,
   "metadata": {},
   "outputs": [],
   "source": [
    "cross_val_acc = cross_val_score(rf, X_train, y_train, \n",
    "                        scoring = 'neg_mean_squared_error', cv = 10)"
   ]
  },
  {
   "cell_type": "code",
   "execution_count": 13,
   "metadata": {},
   "outputs": [
    {
     "data": {
      "text/plain": [
       "array([-0.12088773, -0.18976767, -0.1511296 , -0.11354275, -0.14161684,\n",
       "       -0.08536467, -0.08409775, -0.11972098, -0.1514604 , -0.12076412])"
      ]
     },
     "execution_count": 13,
     "metadata": {},
     "output_type": "execute_result"
    }
   ],
   "source": [
    "cross_val_acc"
   ]
  },
  {
   "cell_type": "code",
   "execution_count": 14,
   "metadata": {},
   "outputs": [
    {
     "data": {
      "text/plain": [
       "GrLivArea       0.115323\n",
       "YearBuilt       0.072527\n",
       "GarageCars      0.065754\n",
       "TotalBsmtSF     0.063356\n",
       "GarageArea      0.062123\n",
       "ExterQualTA     0.049219\n",
       "FullBath        0.040217\n",
       "YearRemodAdd    0.029257\n",
       "LotArea         0.026004\n",
       "dtype: float64"
      ]
     },
     "execution_count": 14,
     "metadata": {},
     "output_type": "execute_result"
    }
   ],
   "source": [
    "var_imp = pd.Series(rf.feature_importances_, index=X.columns)\n",
    "var_imp.sort_values(ascending = False)[1:10]"
   ]
  },
  {
   "cell_type": "code",
   "execution_count": 15,
   "metadata": {},
   "outputs": [],
   "source": [
    "rf_preds = rf.predict(X_test)"
   ]
  },
  {
   "cell_type": "code",
   "execution_count": 15,
   "metadata": {},
   "outputs": [
    {
     "data": {
      "text/plain": [
       "[<matplotlib.lines.Line2D at 0x25620b07fd0>]"
      ]
     },
     "execution_count": 15,
     "metadata": {},
     "output_type": "execute_result"
    },
    {
     "data": {
      "image/png": "[encoded data removed]",
      "text/plain": [
       "<Figure size 432x288 with 1 Axes>"
      ]
     },
     "metadata": {
      "needs_background": "light"
     },
     "output_type": "display_data"
    }
   ],
   "source": [
    "fig, ax = plt.subplots()\n",
    "ax.plot(rf_preds, y_test, 'bo', markersize = 0.6)\n",
    "ax.set(xlabel = 'scaled-predictions', ylabel = 'scaled-actual')\n",
    "ax.plot(y_test, y_test)"
   ]
  }
 ],
 "metadata": {
  "kernelspec": {
   "display_name": "Python 3",
   "language": "python",
   "name": "python3"
  },
  "language_info": {
   "codemirror_mode": {
    "name": "ipython",
    "version": 3
   },
   "file_extension": ".py",
   "mimetype": "text/x-python",
   "name": "python",
   "nbconvert_exporter": "python",
   "pygments_lexer": "ipython3",
   "version": "3.7.1"
  }
 },
 "nbformat": 4,
 "nbformat_minor": 2
}
